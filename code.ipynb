{
 "metadata": {
  "language_info": {
   "codemirror_mode": {
    "name": "ipython",
    "version": 3
   },
   "file_extension": ".py",
   "mimetype": "text/x-python",
   "name": "python",
   "nbconvert_exporter": "python",
   "pygments_lexer": "ipython3",
   "version": "3.8.10"
  },
  "orig_nbformat": 2,
  "kernelspec": {
   "name": "python3",
   "display_name": "Python 3.8.10 64-bit",
   "metadata": {
    "interpreter": {
     "hash": "feb1dc6547a7ed04599d0089ec177bba745634c9737623daa262c8b9fb51e6d8"
    }
   }
  }
 },
 "nbformat": 4,
 "nbformat_minor": 2,
 "cells": [
  {
   "cell_type": "code",
   "execution_count": 2,
   "metadata": {},
   "outputs": [],
   "source": [
    "import numpy as np\n",
    "import pandas as pd\n",
    "import matplotlib.pyplot as plt\n"
   ]
  },
  {
   "cell_type": "code",
   "execution_count": 4,
   "metadata": {},
   "outputs": [],
   "source": [
    "y1 = pd.read_csv('year1.csv')\n",
    "y2 = pd.read_csv('year2.csv')\n",
    "y3 = pd.read_csv('year3.csv')\n",
    "y4 = pd.read_csv('year4.csv')"
   ]
  },
  {
   "cell_type": "code",
   "execution_count": 6,
   "metadata": {},
   "outputs": [
    {
     "output_type": "execute_result",
     "data": {
      "text/plain": [
       "             X1       X2        X3       X4       X5         X6         X7  \\\n",
       "0       0.20055  0.37951   0.39641   2.0472   32.351    0.38825    0.24976   \n",
       "1       0.20912  0.49988   0.47225   1.9447   14.786          0    0.25834   \n",
       "2       0.24866  0.69592   0.26713   1.5548  -1.1523          0    0.30906   \n",
       "3      0.081483  0.30734   0.45879   2.4928   51.952    0.14988   0.092704   \n",
       "4       0.18732  0.61323    0.2296   1.4063  -7.3128    0.18732    0.18732   \n",
       "...         ...      ...       ...      ...      ...        ...        ...   \n",
       "7022   0.018371   0.4741  -0.13619  0.60839  -18.449   0.018371   0.018371   \n",
       "7023  -0.013359  0.58354  -0.02265  0.92896  -42.232  -0.013359  -0.015036   \n",
       "7024   0.006338  0.50276   0.43923   1.8736   9.7417   0.006338   0.012022   \n",
       "7025  -0.041643   0.8481  -0.12852  0.57485  -121.92          0  -0.036795   \n",
       "7026   0.014946  0.94648   0.03211   1.0363  -20.581          0    0.01526   \n",
       "\n",
       "            X8       X9       X10  ...        X57      X58       X59     X60  \\\n",
       "0       1.3305   1.1389   0.50494  ...    0.39718  0.87804  0.001924   8.416   \n",
       "1      0.99601   1.6996   0.49788  ...    0.42002  0.85300         0  4.1486   \n",
       "2      0.43695    1.309   0.30408  ...    0.81774  0.76599   0.69484  4.9909   \n",
       "3       1.8661   1.0571   0.57353  ...    0.14207  0.94598         0  4.5746   \n",
       "4       0.6307   1.1559   0.38677  ...    0.48431  0.86515   0.12444  6.3985   \n",
       "...        ...      ...       ...  ...        ...      ...       ...     ...   \n",
       "7022   0.97203   1.0121   0.46084  ...   0.039866  0.98809   0.27414  73.505   \n",
       "7023   0.56289  0.98904   0.32847  ...  -0.040671  1.01110   0.80592  10.599   \n",
       "7024   0.98356   1.0083   0.49449  ...   0.012817  0.99174         0   10.47   \n",
       "7025   0.17901  0.42138   0.15182  ...   -0.27429  0.98788    3.5931  39.703   \n",
       "7026  0.056357   2.9694  0.053341  ...    0.28021  0.97443    1.1792  15.036   \n",
       "\n",
       "         X61      X62     X63      X64    id  TARGET  \n",
       "0     5.1372   82.658  4.4158   7.4277     0       0  \n",
       "1     3.2732  107.350     3.4   60.987     1       0  \n",
       "2      3.951  134.270  2.7185   5.2078     2       0  \n",
       "3     3.6147   86.435  4.2228   5.5497     3       0  \n",
       "4     4.3158  127.210  2.8692    7.898     4       0  \n",
       "...      ...      ...     ...      ...   ...     ...  \n",
       "7022  79.237   31.268  11.673   5.1489  7022       1  \n",
       "7023   7.174   94.092  3.8792   1.7572  7023       1  \n",
       "7024  6.0759   51.019  7.1542   62.001  7024       1  \n",
       "7025   3.142  261.850  1.3939  0.51005  7025       1  \n",
       "7026  4.1741  108.640  3.3599   35.118  7026       1  \n",
       "\n",
       "[7027 rows x 66 columns]"
      ],
      "text/html": "<div>\n<style scoped>\n    .dataframe tbody tr th:only-of-type {\n        vertical-align: middle;\n    }\n\n    .dataframe tbody tr th {\n        vertical-align: top;\n    }\n\n    .dataframe thead th {\n        text-align: right;\n    }\n</style>\n<table border=\"1\" class=\"dataframe\">\n  <thead>\n    <tr style=\"text-align: right;\">\n      <th></th>\n      <th>X1</th>\n      <th>X2</th>\n      <th>X3</th>\n      <th>X4</th>\n      <th>X5</th>\n      <th>X6</th>\n      <th>X7</th>\n      <th>X8</th>\n      <th>X9</th>\n      <th>X10</th>\n      <th>...</th>\n      <th>X57</th>\n      <th>X58</th>\n      <th>X59</th>\n      <th>X60</th>\n      <th>X61</th>\n      <th>X62</th>\n      <th>X63</th>\n      <th>X64</th>\n      <th>id</th>\n      <th>TARGET</th>\n    </tr>\n  </thead>\n  <tbody>\n    <tr>\n      <th>0</th>\n      <td>0.20055</td>\n      <td>0.37951</td>\n      <td>0.39641</td>\n      <td>2.0472</td>\n      <td>32.351</td>\n      <td>0.38825</td>\n      <td>0.24976</td>\n      <td>1.3305</td>\n      <td>1.1389</td>\n      <td>0.50494</td>\n      <td>...</td>\n      <td>0.39718</td>\n      <td>0.87804</td>\n      <td>0.001924</td>\n      <td>8.416</td>\n      <td>5.1372</td>\n      <td>82.658</td>\n      <td>4.4158</td>\n      <td>7.4277</td>\n      <td>0</td>\n      <td>0</td>\n    </tr>\n    <tr>\n      <th>1</th>\n      <td>0.20912</td>\n      <td>0.49988</td>\n      <td>0.47225</td>\n      <td>1.9447</td>\n      <td>14.786</td>\n      <td>0</td>\n      <td>0.25834</td>\n      <td>0.99601</td>\n      <td>1.6996</td>\n      <td>0.49788</td>\n      <td>...</td>\n      <td>0.42002</td>\n      <td>0.85300</td>\n      <td>0</td>\n      <td>4.1486</td>\n      <td>3.2732</td>\n      <td>107.350</td>\n      <td>3.4</td>\n      <td>60.987</td>\n      <td>1</td>\n      <td>0</td>\n    </tr>\n    <tr>\n      <th>2</th>\n      <td>0.24866</td>\n      <td>0.69592</td>\n      <td>0.26713</td>\n      <td>1.5548</td>\n      <td>-1.1523</td>\n      <td>0</td>\n      <td>0.30906</td>\n      <td>0.43695</td>\n      <td>1.309</td>\n      <td>0.30408</td>\n      <td>...</td>\n      <td>0.81774</td>\n      <td>0.76599</td>\n      <td>0.69484</td>\n      <td>4.9909</td>\n      <td>3.951</td>\n      <td>134.270</td>\n      <td>2.7185</td>\n      <td>5.2078</td>\n      <td>2</td>\n      <td>0</td>\n    </tr>\n    <tr>\n      <th>3</th>\n      <td>0.081483</td>\n      <td>0.30734</td>\n      <td>0.45879</td>\n      <td>2.4928</td>\n      <td>51.952</td>\n      <td>0.14988</td>\n      <td>0.092704</td>\n      <td>1.8661</td>\n      <td>1.0571</td>\n      <td>0.57353</td>\n      <td>...</td>\n      <td>0.14207</td>\n      <td>0.94598</td>\n      <td>0</td>\n      <td>4.5746</td>\n      <td>3.6147</td>\n      <td>86.435</td>\n      <td>4.2228</td>\n      <td>5.5497</td>\n      <td>3</td>\n      <td>0</td>\n    </tr>\n    <tr>\n      <th>4</th>\n      <td>0.18732</td>\n      <td>0.61323</td>\n      <td>0.2296</td>\n      <td>1.4063</td>\n      <td>-7.3128</td>\n      <td>0.18732</td>\n      <td>0.18732</td>\n      <td>0.6307</td>\n      <td>1.1559</td>\n      <td>0.38677</td>\n      <td>...</td>\n      <td>0.48431</td>\n      <td>0.86515</td>\n      <td>0.12444</td>\n      <td>6.3985</td>\n      <td>4.3158</td>\n      <td>127.210</td>\n      <td>2.8692</td>\n      <td>7.898</td>\n      <td>4</td>\n      <td>0</td>\n    </tr>\n    <tr>\n      <th>...</th>\n      <td>...</td>\n      <td>...</td>\n      <td>...</td>\n      <td>...</td>\n      <td>...</td>\n      <td>...</td>\n      <td>...</td>\n      <td>...</td>\n      <td>...</td>\n      <td>...</td>\n      <td>...</td>\n      <td>...</td>\n      <td>...</td>\n      <td>...</td>\n      <td>...</td>\n      <td>...</td>\n      <td>...</td>\n      <td>...</td>\n      <td>...</td>\n      <td>...</td>\n      <td>...</td>\n    </tr>\n    <tr>\n      <th>7022</th>\n      <td>0.018371</td>\n      <td>0.4741</td>\n      <td>-0.13619</td>\n      <td>0.60839</td>\n      <td>-18.449</td>\n      <td>0.018371</td>\n      <td>0.018371</td>\n      <td>0.97203</td>\n      <td>1.0121</td>\n      <td>0.46084</td>\n      <td>...</td>\n      <td>0.039866</td>\n      <td>0.98809</td>\n      <td>0.27414</td>\n      <td>73.505</td>\n      <td>79.237</td>\n      <td>31.268</td>\n      <td>11.673</td>\n      <td>5.1489</td>\n      <td>7022</td>\n      <td>1</td>\n    </tr>\n    <tr>\n      <th>7023</th>\n      <td>-0.013359</td>\n      <td>0.58354</td>\n      <td>-0.02265</td>\n      <td>0.92896</td>\n      <td>-42.232</td>\n      <td>-0.013359</td>\n      <td>-0.015036</td>\n      <td>0.56289</td>\n      <td>0.98904</td>\n      <td>0.32847</td>\n      <td>...</td>\n      <td>-0.040671</td>\n      <td>1.01110</td>\n      <td>0.80592</td>\n      <td>10.599</td>\n      <td>7.174</td>\n      <td>94.092</td>\n      <td>3.8792</td>\n      <td>1.7572</td>\n      <td>7023</td>\n      <td>1</td>\n    </tr>\n    <tr>\n      <th>7024</th>\n      <td>0.006338</td>\n      <td>0.50276</td>\n      <td>0.43923</td>\n      <td>1.8736</td>\n      <td>9.7417</td>\n      <td>0.006338</td>\n      <td>0.012022</td>\n      <td>0.98356</td>\n      <td>1.0083</td>\n      <td>0.49449</td>\n      <td>...</td>\n      <td>0.012817</td>\n      <td>0.99174</td>\n      <td>0</td>\n      <td>10.47</td>\n      <td>6.0759</td>\n      <td>51.019</td>\n      <td>7.1542</td>\n      <td>62.001</td>\n      <td>7024</td>\n      <td>1</td>\n    </tr>\n    <tr>\n      <th>7025</th>\n      <td>-0.041643</td>\n      <td>0.8481</td>\n      <td>-0.12852</td>\n      <td>0.57485</td>\n      <td>-121.92</td>\n      <td>0</td>\n      <td>-0.036795</td>\n      <td>0.17901</td>\n      <td>0.42138</td>\n      <td>0.15182</td>\n      <td>...</td>\n      <td>-0.27429</td>\n      <td>0.98788</td>\n      <td>3.5931</td>\n      <td>39.703</td>\n      <td>3.142</td>\n      <td>261.850</td>\n      <td>1.3939</td>\n      <td>0.51005</td>\n      <td>7025</td>\n      <td>1</td>\n    </tr>\n    <tr>\n      <th>7026</th>\n      <td>0.014946</td>\n      <td>0.94648</td>\n      <td>0.03211</td>\n      <td>1.0363</td>\n      <td>-20.581</td>\n      <td>0</td>\n      <td>0.01526</td>\n      <td>0.056357</td>\n      <td>2.9694</td>\n      <td>0.053341</td>\n      <td>...</td>\n      <td>0.28021</td>\n      <td>0.97443</td>\n      <td>1.1792</td>\n      <td>15.036</td>\n      <td>4.1741</td>\n      <td>108.640</td>\n      <td>3.3599</td>\n      <td>35.118</td>\n      <td>7026</td>\n      <td>1</td>\n    </tr>\n  </tbody>\n</table>\n<p>7027 rows × 66 columns</p>\n</div>"
     },
     "metadata": {},
     "execution_count": 6
    }
   ],
   "source": [
    "y1"
   ]
  },
  {
   "cell_type": "code",
   "execution_count": 8,
   "metadata": {},
   "outputs": [
    {
     "output_type": "execute_result",
     "data": {
      "text/plain": [
       "0    6756\n",
       "1     271\n",
       "Name: TARGET, dtype: int64"
      ]
     },
     "metadata": {},
     "execution_count": 8
    }
   ],
   "source": [
    "y1['TARGET'].value_counts()"
   ]
  },
  {
   "cell_type": "code",
   "execution_count": 10,
   "metadata": {},
   "outputs": [
    {
     "output_type": "execute_result",
     "data": {
      "text/plain": [
       "<bound method NDFrame._add_numeric_operations.<locals>.all of X1        0\n",
       "X2        0\n",
       "X3        0\n",
       "X4        0\n",
       "X5        0\n",
       "         ..\n",
       "X62       0\n",
       "X63       0\n",
       "X64       0\n",
       "id        0\n",
       "TARGET    0\n",
       "Length: 66, dtype: int64>"
      ]
     },
     "metadata": {},
     "execution_count": 10
    }
   ],
   "source": [
    "y1.isnull().sum().all\n"
   ]
  },
  {
   "cell_type": "code",
   "execution_count": 12,
   "metadata": {},
   "outputs": [
    {
     "output_type": "stream",
     "name": "stdout",
     "text": [
      "<class 'pandas.core.frame.DataFrame'>\nRangeIndex: 7027 entries, 0 to 7026\nData columns (total 66 columns):\n #   Column  Non-Null Count  Dtype  \n---  ------  --------------  -----  \n 0   X1      7027 non-null   object \n 1   X2      7027 non-null   object \n 2   X3      7027 non-null   object \n 3   X4      7027 non-null   object \n 4   X5      7027 non-null   object \n 5   X6      7027 non-null   object \n 6   X7      7027 non-null   object \n 7   X8      7027 non-null   object \n 8   X9      7027 non-null   object \n 9   X10     7027 non-null   object \n 10  X11     7027 non-null   object \n 11  X12     7027 non-null   object \n 12  X13     7027 non-null   float64\n 13  X14     7027 non-null   object \n 14  X15     7027 non-null   object \n 15  X16     7027 non-null   object \n 16  X17     7027 non-null   object \n 17  X18     7027 non-null   object \n 18  X19     7027 non-null   float64\n 19  X20     7027 non-null   float64\n 20  X21     7027 non-null   object \n 21  X22     7027 non-null   object \n 22  X23     7027 non-null   float64\n 23  X24     7027 non-null   object \n 24  X25     7027 non-null   object \n 25  X26     7027 non-null   object \n 26  X27     7027 non-null   object \n 27  X28     7027 non-null   object \n 28  X29     7027 non-null   object \n 29  X30     7027 non-null   float64\n 30  X31     7027 non-null   float64\n 31  X32     7027 non-null   object \n 32  X33     7027 non-null   object \n 33  X34     7027 non-null   object \n 34  X35     7027 non-null   object \n 35  X36     7027 non-null   object \n 36  X37     7027 non-null   object \n 37  X38     7027 non-null   object \n 38  X39     7027 non-null   float64\n 39  X40     7027 non-null   object \n 40  X41     7027 non-null   object \n 41  X42     7027 non-null   float64\n 42  X43     7027 non-null   float64\n 43  X44     7027 non-null   float64\n 44  X45     7027 non-null   object \n 45  X46     7027 non-null   object \n 46  X47     7027 non-null   object \n 47  X48     7027 non-null   object \n 48  X49     7027 non-null   float64\n 49  X50     7027 non-null   object \n 50  X51     7027 non-null   object \n 51  X52     7027 non-null   object \n 52  X53     7027 non-null   object \n 53  X54     7027 non-null   object \n 54  X55     7027 non-null   float64\n 55  X56     7027 non-null   float64\n 56  X57     7027 non-null   object \n 57  X58     7027 non-null   float64\n 58  X59     7027 non-null   object \n 59  X60     7027 non-null   object \n 60  X61     7027 non-null   object \n 61  X62     7027 non-null   float64\n 62  X63     7027 non-null   object \n 63  X64     7027 non-null   object \n 64  id      7027 non-null   int64  \n 65  TARGET  7027 non-null   int64  \ndtypes: float64(15), int64(2), object(49)\nmemory usage: 3.5+ MB\n"
     ]
    }
   ],
   "source": [
    "y1.info()"
   ]
  },
  {
   "cell_type": "code",
   "execution_count": 60,
   "metadata": {},
   "outputs": [
    {
     "output_type": "stream",
     "name": "stdout",
     "text": [
      "<class 'pandas.core.frame.DataFrame'>\nRangeIndex: 7027 entries, 0 to 7026\nData columns (total 66 columns):\n #   Column  Non-Null Count  Dtype  \n---  ------  --------------  -----  \n 0   X1      7024 non-null   float64\n 1   X2      7024 non-null   float64\n 2   X3      7024 non-null   float64\n 3   X4      6997 non-null   float64\n 4   X5      7019 non-null   float64\n 5   X6      7024 non-null   float64\n 6   X7      7024 non-null   float64\n 7   X8      7002 non-null   float64\n 8   X9      7026 non-null   float64\n 9   X10     7024 non-null   float64\n 10  X11     6988 non-null   float64\n 11  X12     6997 non-null   float64\n 12  X13     7027 non-null   float64\n 13  X14     7024 non-null   float64\n 14  X15     7025 non-null   float64\n 15  X16     7002 non-null   float64\n 16  X17     7002 non-null   float64\n 17  X18     7024 non-null   float64\n 18  X19     7027 non-null   float64\n 19  X20     7027 non-null   float64\n 20  X21     5405 non-null   float64\n 21  X22     7024 non-null   float64\n 22  X23     7027 non-null   float64\n 23  X24     6903 non-null   float64\n 24  X25     7024 non-null   float64\n 25  X26     7002 non-null   float64\n 26  X27     6716 non-null   float64\n 27  X28     6993 non-null   float64\n 28  X29     7024 non-null   float64\n 29  X30     7027 non-null   float64\n 30  X31     7027 non-null   float64\n 31  X32     6989 non-null   float64\n 32  X33     6997 non-null   float64\n 33  X34     7002 non-null   float64\n 34  X35     7024 non-null   float64\n 35  X36     7024 non-null   float64\n 36  X37     4287 non-null   float64\n 37  X38     7024 non-null   float64\n 38  X39     7027 non-null   float64\n 39  X40     6997 non-null   float64\n 40  X41     6943 non-null   float64\n 41  X42     7027 non-null   float64\n 42  X43     7027 non-null   float64\n 43  X44     7027 non-null   float64\n 44  X45     6893 non-null   float64\n 45  X46     6996 non-null   float64\n 46  X47     6998 non-null   float64\n 47  X48     7024 non-null   float64\n 48  X49     7027 non-null   float64\n 49  X50     7002 non-null   float64\n 50  X51     7024 non-null   float64\n 51  X52     6998 non-null   float64\n 52  X53     6993 non-null   float64\n 53  X54     6993 non-null   float64\n 54  X55     7027 non-null   float64\n 55  X56     7027 non-null   float64\n 56  X57     7026 non-null   float64\n 57  X58     7027 non-null   float64\n 58  X59     7026 non-null   float64\n 59  X60     6892 non-null   float64\n 60  X61     7005 non-null   float64\n 61  X62     7027 non-null   float64\n 62  X63     6997 non-null   float64\n 63  X64     6993 non-null   float64\n 64  id      7027 non-null   int64  \n 65  TARGET  7027 non-null   int64  \ndtypes: float64(64), int64(2)\nmemory usage: 3.5 MB\n"
     ]
    }
   ],
   "source": [
    "obj_cols = y1.select_dtypes(include=['object']).columns\n",
    "# y1[obj_cols] = y1[obj_cols].astype('float64')\n",
    "for i in obj_cols:\n",
    "    y1[i] = pd.to_numeric(y1[i], errors='coerce')\n",
    "y1.info()"
   ]
  },
  {
   "cell_type": "code",
   "execution_count": 61,
   "metadata": {},
   "outputs": [
    {
     "output_type": "execute_result",
     "data": {
      "text/plain": [
       "<bound method NDFrame._add_numeric_operations.<locals>.all of X1         3\n",
       "X2         3\n",
       "X3         3\n",
       "X4        30\n",
       "X5         8\n",
       "          ..\n",
       "X62        0\n",
       "X63       30\n",
       "X64       34\n",
       "id         0\n",
       "TARGET     0\n",
       "Length: 66, dtype: int64>"
      ]
     },
     "metadata": {},
     "execution_count": 61
    }
   ],
   "source": [
    "y1.isnull().sum().all"
   ]
  },
  {
   "cell_type": "code",
   "execution_count": 14,
   "metadata": {},
   "outputs": [],
   "source": [
    "y1_full = y1.set_index('id')\n"
   ]
  },
  {
   "cell_type": "code",
   "execution_count": 16,
   "metadata": {},
   "outputs": [],
   "source": [
    "X = y1_full.drop(['TARGET'], axis=1)\n",
    "y = y1.TARGET"
   ]
  },
  {
   "cell_type": "code",
   "execution_count": 18,
   "metadata": {},
   "outputs": [],
   "source": [
    "from sklearn.model_selection import train_test_split\n",
    "\n",
    "X_train , X_test, y_train, y_test = train_test_split(X, y, test_size=0.25, random_state=0)"
   ]
  },
  {
   "cell_type": "code",
   "execution_count": 20,
   "metadata": {},
   "outputs": [],
   "source": [
    "from sklearn.ensemble import RandomForestClassifier\n",
    "\n",
    "rfc = RandomForestClassifier(n_estimators=5, random_state=0)"
   ]
  },
  {
   "cell_type": "code",
   "execution_count": 22,
   "metadata": {},
   "outputs": [
    {
     "output_type": "execute_result",
     "data": {
      "text/plain": [
       "            X1        X2        X3      X4       X5         X6        X7  \\\n",
       "id                                                                         \n",
       "1900         ?         ?         ?       ?    19866          ?         ?   \n",
       "3584   0.22498   0.45494   0.35625  1.7831   4.9358    0.22498   0.22498   \n",
       "1669  0.056905   0.68413  0.032085  1.0827  -20.116  -0.000391  0.071784   \n",
       "1771  0.059501   0.36165    0.1962  1.5873    7.018   -0.42359  0.064618   \n",
       "4727  0.011742   0.45322   0.23447  1.5832  -9.8005    0.15182  0.018321   \n",
       "...        ...       ...       ...     ...      ...        ...       ...   \n",
       "4931   0.79697  0.049697   0.72788  15.646   272.36          0   0.98909   \n",
       "3264   0.51575   0.56569   0.40768  1.7207   78.169          0   0.51575   \n",
       "1653   0.19269   0.29377   0.55967  3.0253  -71.801    0.12541   0.19269   \n",
       "2607  0.057383   0.45972   0.30943  1.7564   23.131   0.099004  0.057383   \n",
       "2732  0.094126   0.37093   0.18004  1.5995   12.485          0  0.094126   \n",
       "\n",
       "           X8       X9      X10  ...        X55       X56       X57      X58  \\\n",
       "id                               ...                                           \n",
       "1900        ?  0.98556        ?  ...    352.070 -0.014651         0  1.01470   \n",
       "3584   1.1341   1.2073  0.51592  ...   3681.500  0.171710   0.43607  0.82829   \n",
       "1669   0.4617   1.8758  0.31587  ...     83.838  0.013899   0.18016  0.96293   \n",
       "1771   1.7651   1.6866  0.63835  ...   1111.000  0.035642  0.093211  0.96220   \n",
       "4727   1.1782   1.0309  0.53398  ...  22880.000  0.029930  0.021989  0.97007   \n",
       "...       ...      ...      ...  ...        ...       ...       ...      ...   \n",
       "4931   19.122   2.6891   0.9503  ...   1201.000  0.364660   0.83865  0.64345   \n",
       "3264  0.76777   2.2612  0.43431  ...   1592.000  0.224240    1.1875  0.77281   \n",
       "1653    2.404   2.7921  0.70623  ...   3914.700  0.873270   0.27285  0.13507   \n",
       "2607   1.1752   1.0366  0.54028  ...  18996.000  0.035291   0.10621  0.96471   \n",
       "2732   1.6959   1.5592  0.62907  ...   1684.100  0.249590   0.14963  0.75255   \n",
       "\n",
       "           X59     X60       X61       X62     X63     X64  \n",
       "id                                                          \n",
       "1900         0  5.2041  0.033087    0.0000       ?  1.2531  \n",
       "3584         0  3.1876    2.5137  151.9200  2.4025  5.7889  \n",
       "1669   0.93799  14.422    6.5468   75.4690  4.8364  3.2339  \n",
       "1771  0.005084  10.397    4.8181   72.3020  5.0483  3.5906  \n",
       "4727  0.095883  9.8765    8.0419   55.1630  6.6168  7.3176  \n",
       "...        ...     ...       ...       ...     ...     ...  \n",
       "4931         0  211.29    3.5927    6.7455   54.11   12.09  \n",
       "3264         0  91.031    3.6915   91.3120  3.9973  84.904  \n",
       "1653         0  9.9163    5.2479   36.1250  10.104  17.027  \n",
       "2607  0.093693  5.6755    2.6638  115.4500  3.1614  4.5951  \n",
       "2732         0  11.243    4.8204   70.2990  5.1921  3.0003  \n",
       "\n",
       "[5270 rows x 64 columns]"
      ],
      "text/html": "<div>\n<style scoped>\n    .dataframe tbody tr th:only-of-type {\n        vertical-align: middle;\n    }\n\n    .dataframe tbody tr th {\n        vertical-align: top;\n    }\n\n    .dataframe thead th {\n        text-align: right;\n    }\n</style>\n<table border=\"1\" class=\"dataframe\">\n  <thead>\n    <tr style=\"text-align: right;\">\n      <th></th>\n      <th>X1</th>\n      <th>X2</th>\n      <th>X3</th>\n      <th>X4</th>\n      <th>X5</th>\n      <th>X6</th>\n      <th>X7</th>\n      <th>X8</th>\n      <th>X9</th>\n      <th>X10</th>\n      <th>...</th>\n      <th>X55</th>\n      <th>X56</th>\n      <th>X57</th>\n      <th>X58</th>\n      <th>X59</th>\n      <th>X60</th>\n      <th>X61</th>\n      <th>X62</th>\n      <th>X63</th>\n      <th>X64</th>\n    </tr>\n    <tr>\n      <th>id</th>\n      <th></th>\n      <th></th>\n      <th></th>\n      <th></th>\n      <th></th>\n      <th></th>\n      <th></th>\n      <th></th>\n      <th></th>\n      <th></th>\n      <th></th>\n      <th></th>\n      <th></th>\n      <th></th>\n      <th></th>\n      <th></th>\n      <th></th>\n      <th></th>\n      <th></th>\n      <th></th>\n      <th></th>\n    </tr>\n  </thead>\n  <tbody>\n    <tr>\n      <th>1900</th>\n      <td>?</td>\n      <td>?</td>\n      <td>?</td>\n      <td>?</td>\n      <td>19866</td>\n      <td>?</td>\n      <td>?</td>\n      <td>?</td>\n      <td>0.98556</td>\n      <td>?</td>\n      <td>...</td>\n      <td>352.070</td>\n      <td>-0.014651</td>\n      <td>0</td>\n      <td>1.01470</td>\n      <td>0</td>\n      <td>5.2041</td>\n      <td>0.033087</td>\n      <td>0.0000</td>\n      <td>?</td>\n      <td>1.2531</td>\n    </tr>\n    <tr>\n      <th>3584</th>\n      <td>0.22498</td>\n      <td>0.45494</td>\n      <td>0.35625</td>\n      <td>1.7831</td>\n      <td>4.9358</td>\n      <td>0.22498</td>\n      <td>0.22498</td>\n      <td>1.1341</td>\n      <td>1.2073</td>\n      <td>0.51592</td>\n      <td>...</td>\n      <td>3681.500</td>\n      <td>0.171710</td>\n      <td>0.43607</td>\n      <td>0.82829</td>\n      <td>0</td>\n      <td>3.1876</td>\n      <td>2.5137</td>\n      <td>151.9200</td>\n      <td>2.4025</td>\n      <td>5.7889</td>\n    </tr>\n    <tr>\n      <th>1669</th>\n      <td>0.056905</td>\n      <td>0.68413</td>\n      <td>0.032085</td>\n      <td>1.0827</td>\n      <td>-20.116</td>\n      <td>-0.000391</td>\n      <td>0.071784</td>\n      <td>0.4617</td>\n      <td>1.8758</td>\n      <td>0.31587</td>\n      <td>...</td>\n      <td>83.838</td>\n      <td>0.013899</td>\n      <td>0.18016</td>\n      <td>0.96293</td>\n      <td>0.93799</td>\n      <td>14.422</td>\n      <td>6.5468</td>\n      <td>75.4690</td>\n      <td>4.8364</td>\n      <td>3.2339</td>\n    </tr>\n    <tr>\n      <th>1771</th>\n      <td>0.059501</td>\n      <td>0.36165</td>\n      <td>0.1962</td>\n      <td>1.5873</td>\n      <td>7.018</td>\n      <td>-0.42359</td>\n      <td>0.064618</td>\n      <td>1.7651</td>\n      <td>1.6866</td>\n      <td>0.63835</td>\n      <td>...</td>\n      <td>1111.000</td>\n      <td>0.035642</td>\n      <td>0.093211</td>\n      <td>0.96220</td>\n      <td>0.005084</td>\n      <td>10.397</td>\n      <td>4.8181</td>\n      <td>72.3020</td>\n      <td>5.0483</td>\n      <td>3.5906</td>\n    </tr>\n    <tr>\n      <th>4727</th>\n      <td>0.011742</td>\n      <td>0.45322</td>\n      <td>0.23447</td>\n      <td>1.5832</td>\n      <td>-9.8005</td>\n      <td>0.15182</td>\n      <td>0.018321</td>\n      <td>1.1782</td>\n      <td>1.0309</td>\n      <td>0.53398</td>\n      <td>...</td>\n      <td>22880.000</td>\n      <td>0.029930</td>\n      <td>0.021989</td>\n      <td>0.97007</td>\n      <td>0.095883</td>\n      <td>9.8765</td>\n      <td>8.0419</td>\n      <td>55.1630</td>\n      <td>6.6168</td>\n      <td>7.3176</td>\n    </tr>\n    <tr>\n      <th>...</th>\n      <td>...</td>\n      <td>...</td>\n      <td>...</td>\n      <td>...</td>\n      <td>...</td>\n      <td>...</td>\n      <td>...</td>\n      <td>...</td>\n      <td>...</td>\n      <td>...</td>\n      <td>...</td>\n      <td>...</td>\n      <td>...</td>\n      <td>...</td>\n      <td>...</td>\n      <td>...</td>\n      <td>...</td>\n      <td>...</td>\n      <td>...</td>\n      <td>...</td>\n      <td>...</td>\n    </tr>\n    <tr>\n      <th>4931</th>\n      <td>0.79697</td>\n      <td>0.049697</td>\n      <td>0.72788</td>\n      <td>15.646</td>\n      <td>272.36</td>\n      <td>0</td>\n      <td>0.98909</td>\n      <td>19.122</td>\n      <td>2.6891</td>\n      <td>0.9503</td>\n      <td>...</td>\n      <td>1201.000</td>\n      <td>0.364660</td>\n      <td>0.83865</td>\n      <td>0.64345</td>\n      <td>0</td>\n      <td>211.29</td>\n      <td>3.5927</td>\n      <td>6.7455</td>\n      <td>54.11</td>\n      <td>12.09</td>\n    </tr>\n    <tr>\n      <th>3264</th>\n      <td>0.51575</td>\n      <td>0.56569</td>\n      <td>0.40768</td>\n      <td>1.7207</td>\n      <td>78.169</td>\n      <td>0</td>\n      <td>0.51575</td>\n      <td>0.76777</td>\n      <td>2.2612</td>\n      <td>0.43431</td>\n      <td>...</td>\n      <td>1592.000</td>\n      <td>0.224240</td>\n      <td>1.1875</td>\n      <td>0.77281</td>\n      <td>0</td>\n      <td>91.031</td>\n      <td>3.6915</td>\n      <td>91.3120</td>\n      <td>3.9973</td>\n      <td>84.904</td>\n    </tr>\n    <tr>\n      <th>1653</th>\n      <td>0.19269</td>\n      <td>0.29377</td>\n      <td>0.55967</td>\n      <td>3.0253</td>\n      <td>-71.801</td>\n      <td>0.12541</td>\n      <td>0.19269</td>\n      <td>2.404</td>\n      <td>2.7921</td>\n      <td>0.70623</td>\n      <td>...</td>\n      <td>3914.700</td>\n      <td>0.873270</td>\n      <td>0.27285</td>\n      <td>0.13507</td>\n      <td>0</td>\n      <td>9.9163</td>\n      <td>5.2479</td>\n      <td>36.1250</td>\n      <td>10.104</td>\n      <td>17.027</td>\n    </tr>\n    <tr>\n      <th>2607</th>\n      <td>0.057383</td>\n      <td>0.45972</td>\n      <td>0.30943</td>\n      <td>1.7564</td>\n      <td>23.131</td>\n      <td>0.099004</td>\n      <td>0.057383</td>\n      <td>1.1752</td>\n      <td>1.0366</td>\n      <td>0.54028</td>\n      <td>...</td>\n      <td>18996.000</td>\n      <td>0.035291</td>\n      <td>0.10621</td>\n      <td>0.96471</td>\n      <td>0.093693</td>\n      <td>5.6755</td>\n      <td>2.6638</td>\n      <td>115.4500</td>\n      <td>3.1614</td>\n      <td>4.5951</td>\n    </tr>\n    <tr>\n      <th>2732</th>\n      <td>0.094126</td>\n      <td>0.37093</td>\n      <td>0.18004</td>\n      <td>1.5995</td>\n      <td>12.485</td>\n      <td>0</td>\n      <td>0.094126</td>\n      <td>1.6959</td>\n      <td>1.5592</td>\n      <td>0.62907</td>\n      <td>...</td>\n      <td>1684.100</td>\n      <td>0.249590</td>\n      <td>0.14963</td>\n      <td>0.75255</td>\n      <td>0</td>\n      <td>11.243</td>\n      <td>4.8204</td>\n      <td>70.2990</td>\n      <td>5.1921</td>\n      <td>3.0003</td>\n    </tr>\n  </tbody>\n</table>\n<p>5270 rows × 64 columns</p>\n</div>"
     },
     "metadata": {},
     "execution_count": 22
    }
   ],
   "source": [
    "X_train"
   ]
  },
  {
   "cell_type": "code",
   "execution_count": null,
   "metadata": {},
   "outputs": [],
   "source": []
  },
  {
   "cell_type": "code",
   "execution_count": null,
   "metadata": {},
   "outputs": [],
   "source": []
  },
  {
   "cell_type": "code",
   "execution_count": 24,
   "metadata": {},
   "outputs": [
    {
     "output_type": "execute_result",
     "data": {
      "text/plain": [
       "1900    0\n",
       "3584    0\n",
       "1669    0\n",
       "1771    0\n",
       "4727    0\n",
       "       ..\n",
       "4931    0\n",
       "3264    0\n",
       "1653    0\n",
       "2607    0\n",
       "2732    0\n",
       "Name: TARGET, Length: 5270, dtype: int64"
      ]
     },
     "metadata": {},
     "execution_count": 24
    }
   ],
   "source": []
  },
  {
   "cell_type": "code",
   "execution_count": 58,
   "metadata": {},
   "outputs": [
    {
     "output_type": "stream",
     "name": "stdout",
     "text": [
      "<class 'pandas.core.frame.DataFrame'>\nRangeIndex: 3 entries, 0 to 2\nData columns (total 3 columns):\n #   Column  Non-Null Count  Dtype  \n---  ------  --------------  -----  \n 0   a       2 non-null      float64\n 1   b       2 non-null      float64\n 2   c       2 non-null      float64\ndtypes: float64(3)\nmemory usage: 200.0 bytes\n"
     ]
    }
   ],
   "source": [
    "df = pd.DataFrame({'a': [1, 2, '?'], 'b': [True, False, '?'], 'c': [1.0, 2.0, '?']})\n",
    "df_obj_cols = df.select_dtypes(include=['object']).columns\n",
    "for i in df_obj_cols:\n",
    "    df[i] = pd.to_numeric(df[i], errors='coerce')\n",
    "df.info()"
   ]
  },
  {
   "cell_type": "code",
   "execution_count": 59,
   "metadata": {},
   "outputs": [
    {
     "output_type": "execute_result",
     "data": {
      "text/plain": [
       "     a    b    c\n",
       "0  1.0  1.0  1.0\n",
       "1  2.0  0.0  2.0\n",
       "2  NaN  NaN  NaN"
      ],
      "text/html": "<div>\n<style scoped>\n    .dataframe tbody tr th:only-of-type {\n        vertical-align: middle;\n    }\n\n    .dataframe tbody tr th {\n        vertical-align: top;\n    }\n\n    .dataframe thead th {\n        text-align: right;\n    }\n</style>\n<table border=\"1\" class=\"dataframe\">\n  <thead>\n    <tr style=\"text-align: right;\">\n      <th></th>\n      <th>a</th>\n      <th>b</th>\n      <th>c</th>\n    </tr>\n  </thead>\n  <tbody>\n    <tr>\n      <th>0</th>\n      <td>1.0</td>\n      <td>1.0</td>\n      <td>1.0</td>\n    </tr>\n    <tr>\n      <th>1</th>\n      <td>2.0</td>\n      <td>0.0</td>\n      <td>2.0</td>\n    </tr>\n    <tr>\n      <th>2</th>\n      <td>NaN</td>\n      <td>NaN</td>\n      <td>NaN</td>\n    </tr>\n  </tbody>\n</table>\n</div>"
     },
     "metadata": {},
     "execution_count": 59
    }
   ],
   "source": [
    "df"
   ]
  },
  {
   "cell_type": "code",
   "execution_count": 57,
   "metadata": {},
   "outputs": [
    {
     "output_type": "execute_result",
     "data": {
      "text/plain": [
       "Index(['a', 'b', 'c'], dtype='object')"
      ]
     },
     "metadata": {},
     "execution_count": 57
    }
   ],
   "source": [
    "df_obj_cols"
   ]
  },
  {
   "cell_type": "code",
   "execution_count": null,
   "metadata": {},
   "outputs": [],
   "source": []
  }
 ]
}